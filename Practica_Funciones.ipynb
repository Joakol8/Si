{
 "cells": [
  {
   "cell_type": "markdown",
   "metadata": {},
   "source": [
    "## Práctica Funciones en Python"
   ]
  },
  {
   "cell_type": "markdown",
   "metadata": {},
   "source": [
    "Se le entregan las siguientes 3 funciones, cuyo dominio son todos los números reales entre -1 y 10:\n",
    "\n",
    "**Función 1**: $$f(x) = x^{2}-2x+7$$\n",
    "\n",
    "**Función 2**: $$g(x) = 3x+9$$\n",
    "\n",
    "**Función 3**: $$h(x) = 2e^{0.4x}$$"
   ]
  },
  {
   "cell_type": "markdown",
   "metadata": {},
   "source": [
    "## Actividades\n"
   ]
  },
  {
   "cell_type": "markdown",
   "metadata": {},
   "source": [
    "1. Defina las 3 funciones en Python. Calcule la imagen de $$x=6$$ en cada una de ellas."
   ]
  },
  {
   "cell_type": "code",
   "execution_count": null,
   "metadata": {},
   "outputs": [
    {
     "name": "stdout",
     "output_type": "stream",
     "text": [
      "La imagen de 6 de la funcion f(x) es 31\n",
      "La imagen de 6 de la funcion g(x) es 27\n",
      "La imagen de 6 de la funcion h(x) es 22.05\n"
     ]
    }
   ],
   "source": [
    "import numpy as np\n",
    "import matplotlib.pyplot as plt\n",
    "from scipy.optimize import fsolve\n",
    "\n",
    "\n",
    "def f(x):\n",
    "    return x**2 - 2*x + 7\n",
    "\n",
    "def g(x):\n",
    "    return 3*x +9\n",
    "\n",
    "def h(x):\n",
    "    return 2 * np.exp(0.4*x)\n",
    "\n",
    "\n",
    "print(f\"La imagen de 6 de la funcion f(x) es {f(6)}\")\n",
    "print(f\"La imagen de 6 de la funcion g(x) es {g(6)}\")\n",
    "print(f\"La imagen de 6 de la funcion h(x) es {h(6):.2f}\")"
   ]
  },
  {
   "cell_type": "markdown",
   "metadata": {},
   "source": [
    "2. Calcule la preimagen de $$y=20$$ en cada una de ellas."
   ]
  },
  {
   "cell_type": "code",
   "execution_count": 9,
   "metadata": {},
   "outputs": [
    {
     "name": "stdout",
     "output_type": "stream",
     "text": [
      "[4.74165739]\n",
      "[3.66666667]\n",
      "[6.70320046]\n"
     ]
    }
   ],
   "source": [
    "from scipy.optimize import fsolve\n",
    "import numpy as np\n",
    "import matplotlib.pyplot as plt\n",
    "\n",
    "def f(x):\n",
    "    return x**2-2*x-13\n",
    "def g(x):\n",
    "    return 3*x-11\n",
    "def h(x):\n",
    "    return 2*np.exp(0.4)*x-20\n",
    "\n",
    "\n",
    "x = 20\n",
    "sol = fsolve(f, x)\n",
    "\n",
    "print(fsolve(f, x))\n",
    "print(fsolve(g, x))\n",
    "print(fsolve(h, x))\n",
    "    \n",
    "\n"
   ]
  },
  {
   "cell_type": "markdown",
   "metadata": {},
   "source": [
    "3. Grafique las 3 funciones en un mismo gráfico, visualizando de acuerdo al dominio mencionado, y mostrando una etiqueta que permita identificar a cada función."
   ]
  },
  {
   "cell_type": "code",
   "execution_count": null,
   "metadata": {},
   "outputs": [],
   "source": []
  },
  {
   "cell_type": "markdown",
   "metadata": {},
   "source": [
    "4. Determine en qué punto se intersectan las funciones g y h."
   ]
  },
  {
   "cell_type": "code",
   "execution_count": null,
   "metadata": {},
   "outputs": [],
   "source": []
  },
  {
   "cell_type": "markdown",
   "metadata": {},
   "source": [
    "5. Determine en qué puntos se intersectan las funciones f y g."
   ]
  },
  {
   "cell_type": "code",
   "execution_count": null,
   "metadata": {},
   "outputs": [],
   "source": []
  }
 ],
 "metadata": {
  "kernelspec": {
   "display_name": "base",
   "language": "python",
   "name": "python3"
  },
  "language_info": {
   "codemirror_mode": {
    "name": "ipython",
    "version": 3
   },
   "file_extension": ".py",
   "mimetype": "text/x-python",
   "name": "python",
   "nbconvert_exporter": "python",
   "pygments_lexer": "ipython3",
   "version": "3.8.5"
  }
 },
 "nbformat": 4,
 "nbformat_minor": 2
}
